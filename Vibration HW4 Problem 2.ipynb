{
 "metadata": {
  "name": "",
  "signature": "sha256:5289d54b45e7fb36c268609b6230ab6e9d23ca7e7f3c23223760219f266398a8"
 },
 "nbformat": 3,
 "nbformat_minor": 0,
 "worksheets": [
  {
   "cells": [
    {
     "cell_type": "code",
     "collapsed": false,
     "input": [
      "##inits\n",
      "import sympy;\n",
      "import numpy;\n",
      "import matplotlib.pyplot as plt\n",
      "import math;\n",
      "from mpl_toolkits.mplot3d import Axes3D as ax\n",
      "%matplotlib inline\n",
      "from sympy import *\n",
      "from math import sin, cos, tan, atan"
     ],
     "language": "python",
     "metadata": {},
     "outputs": [],
     "prompt_number": 11
    },
    {
     "cell_type": "code",
     "collapsed": false,
     "input": [
      "jnumber = 17.\n",
      "\n",
      "#constants\n",
      "m = .1;\n",
      "k = 392700.0;\n",
      "zeta_ = 0;\n",
      "tau = 0.06;\n",
      "N = 16.0;\n",
      "w_n = sqrt(k/m)\n",
      "w = (2.0*pi)/tau\n",
      "r = w/w_n;\n",
      "\n",
      "time = linspace(0,.06,500)\n",
      "\n",
      "jrange = linspace(1.0,jnumber,jnumber)\n",
      "#jterms=numpy.zeros((jnumber,24))\n",
      "#position=linspace(0,0,24)\n",
      "#a_j = numpy.zeros((12,1))\n",
      "#b_j = numpy.zeros((12,1))\n",
      "F = [0, 1000.,1000.,1000.,1000.,1000.,1000.,1000.,1000.,1000.,1000.,1000.,1000.,1000.,1000.,1000.]\n",
      "t_s = linspace(0.00375, 0.06,16)    # time for sample\n",
      "a0 = numpy.sum(F)*(2./N)"
     ],
     "language": "python",
     "metadata": {},
     "outputs": [],
     "prompt_number": 12
    },
    {
     "cell_type": "code",
     "collapsed": false,
     "input": [
      "# calculate a_j b_j\n",
      "a = numpy.zeros(len(jrange))\n",
      "b = numpy.zeros(len(jrange))\n",
      "for j in jrange:\n",
      "    for i in range(int(N)):\n",
      "        a[int(j-1)] += 2/N *F[i] * cos(2*j*pi*t_s[i]/tau) \n",
      "        b[int(j-1)] += 2/N *F[i] * sin(2*j*pi*t_s[i]/tau) \n",
      "print a\n",
      "print b"
     ],
     "language": "python",
     "metadata": {},
     "outputs": [
      {
       "output_type": "stream",
       "stream": "stdout",
       "text": [
        "[ -1.15484942e+02  -8.83883476e+01  -4.78354290e+01   5.11590770e-13\n",
        "   4.78354290e+01   8.83883476e+01   1.15484942e+02   1.25000000e+02\n",
        "   1.15484942e+02   8.83883476e+01   4.78354290e+01  -1.56319402e-12\n",
        "  -4.78354290e+01  -8.83883476e+01  -1.15484942e+02   1.87500000e+03\n",
        "  -1.15484942e+02]\n",
        "[ -4.78354290e+01  -8.83883476e+01  -1.15484942e+02  -1.25000000e+02\n",
        "  -1.15484942e+02  -8.83883476e+01  -4.78354290e+01  -1.69208500e-12\n",
        "   4.78354290e+01   8.83883476e+01   1.15484942e+02   1.25000000e+02\n",
        "   1.15484942e+02   8.83883476e+01   4.78354290e+01  -8.12998584e-12\n",
        "  -4.78354290e+01]\n"
       ]
      }
     ]
    },
    {
     "cell_type": "code",
     "collapsed": false,
     "input": [
      "# summation\n",
      "x_ss = a0/(2*k)*numpy.ones(len(time))\n",
      "m = 0  # counter\n",
      "for t in time:\n",
      "    \n",
      "    for j in jrange:\n",
      "        x_ss[m] += a[int(j-1)]/k/sqrt((1.-(j*r)**2)**2+(2.*zeta_*j*r)**2)* cos(j*w*t-math.atan(2.*zeta_*j*r/(1-(j**2)*(r**2))))\\\n",
      "        + b[int(j-1)]/k/(sqrt((1.-(j**2)*(r**2))**2+(2.*zeta_*j*r)**2)) * sin(j*w*t-math.atan(2.*zeta_*j*r/(1-(j**2)*(r**2))))\n",
      "    m += 1"
     ],
     "language": "python",
     "metadata": {},
     "outputs": []
    },
    {
     "cell_type": "code",
     "collapsed": false,
     "input": [
      "plt.figure(figsize=(16,12))\n",
      "plt.plot(time,x_ss)\n",
      "plt.grid(True);\n",
      "plt.title('HW4 Problem 2, Displacement vs. Time for j=10');\n",
      "plt.ylabel(r'Displacement (X)', fontsize=18);\n",
      "plt.xlabel(r'Time(t)', fontsize=18);"
     ],
     "language": "python",
     "metadata": {},
     "outputs": []
    },
    {
     "cell_type": "code",
     "collapsed": false,
     "input": [],
     "language": "python",
     "metadata": {},
     "outputs": []
    }
   ],
   "metadata": {}
  }
 ]
}