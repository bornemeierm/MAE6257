{
 "metadata": {
  "name": "",
  "signature": "sha256:d33a5c179cfd3090b54390e80159aacd74c5b53bafbd86ac1b74a312e949691e"
 },
 "nbformat": 3,
 "nbformat_minor": 0,
 "worksheets": [
  {
   "cells": [
    {
     "cell_type": "code",
     "collapsed": false,
     "input": [
      "#MAE 6257 Theory of Vibration HW4 Problem 1 "
     ],
     "language": "python",
     "metadata": {},
     "outputs": [],
     "prompt_number": 1
    },
    {
     "cell_type": "code",
     "collapsed": false,
     "input": [
      "##inits\n",
      "import sympy;\n",
      "import numpy;\n",
      "import matplotlib.pyplot as plt\n",
      "import math;\n",
      "from mpl_toolkits.mplot3d import Axes3D as ax\n",
      "%matplotlib inline\n",
      "from sympy import *\n",
      "from math import sin, cos, tan, atan"
     ],
     "language": "python",
     "metadata": {},
     "outputs": [],
     "prompt_number": 23
    },
    {
     "cell_type": "code",
     "collapsed": false,
     "input": [
      "#constants\n",
      "m = 1.0;\n",
      "k = 15000.0;\n",
      "zeta = 0.10;\n",
      "\n",
      "tau = 0.6;\n",
      "N = 12.0;\n",
      "\n",
      "w_n = sqrt(k/m)\n",
      "w = (2.0*pi)/tau\n",
      "r = w/w_n;\n",
      "\n",
      "time = linspace(0,.6,24)\n",
      "\n",
      "jnumber = 5.0\n",
      "\n",
      "jrange = linspace(1.0,jnumber,jnumber)\n",
      "\n",
      "\n",
      "jterms=numpy.zeros((jnumber,24))\n",
      "\n",
      "position=linspace(0,0,24)\n",
      "\n",
      "#a_j = numpy.zeros((12,1))\n",
      "#b_j = numpy.zeros((12,1))\n",
      "print(jrange)"
     ],
     "language": "python",
     "metadata": {},
     "outputs": [
      {
       "output_type": "stream",
       "stream": "stdout",
       "text": [
        "[ 1.  2.  3.  4.  5.]\n"
       ]
      }
     ],
     "prompt_number": 8
    },
    {
     "cell_type": "code",
     "collapsed": false,
     "input": [
      "F = linspace(0,12,12)\n",
      "F[0] = 0.0\n",
      "F[1] = 15.0\n",
      "F[2] = 24.0\n",
      "F[3] = 27.0\n",
      "F[4] = 35.0\n",
      "F[5] = 30.0\n",
      "F[6] = 25.0\n",
      "F[7] = 40.0\n",
      "F[8] = 6.0\n",
      "F[9] = -15.0\n",
      "F[10] = -37.0\n",
      "F[11] = -25.0\n",
      "\n",
      "a0 = numpy.sum(F)*(2./N)\n",
      "print('a0 ='); print(a0);"
     ],
     "language": "python",
     "metadata": {},
     "outputs": [
      {
       "output_type": "stream",
       "stream": "stdout",
       "text": [
        "a0 =\n",
        "20.8333333333\n"
       ]
      }
     ],
     "prompt_number": 4
    },
    {
     "cell_type": "code",
     "collapsed": false,
     "input": [
      "'''for t in time:\n",
      "    for j in jrange:\n",
      "        for i in F:\n",
      "            jterms[t,j-1]=\n",
      "            \n",
      "    position[t]=sum(jterms)'''"
     ],
     "language": "python",
     "metadata": {},
     "outputs": [
      {
       "metadata": {},
       "output_type": "pyout",
       "prompt_number": 5,
       "text": [
        "'for t in time:\\n    for j in jrange:\\n        for i in F:\\n            jterms[t,j-1]=\\n            \\n    position[t]=sum(jterms)'"
       ]
      }
     ],
     "prompt_number": 5
    },
    {
     "cell_type": "code",
     "collapsed": false,
     "input": [
      "time"
     ],
     "language": "python",
     "metadata": {},
     "outputs": [
      {
       "metadata": {},
       "output_type": "pyout",
       "prompt_number": 14,
       "text": [
        "array([ 0.        ,  0.02608696,  0.05217391,  0.07826087,  0.10434783,\n",
        "        0.13043478,  0.15652174,  0.1826087 ,  0.20869565,  0.23478261,\n",
        "        0.26086957,  0.28695652,  0.31304348,  0.33913043,  0.36521739,\n",
        "        0.39130435,  0.4173913 ,  0.44347826,  0.46956522,  0.49565217,\n",
        "        0.52173913,  0.54782609,  0.57391304,  0.6       ])"
       ]
      }
     ],
     "prompt_number": 14
    },
    {
     "cell_type": "code",
     "collapsed": false,
     "input": [
      "i=0;\n",
      "x = numpy.zeros(len(time))\n",
      "for t in time:\n",
      "    m=0;\n",
      "    for j in jrange:\n",
      "        jterms[m,i] = a0/(2.0*k)+(((2.0/N)*(F[1]*cos(2.0*j*pi*.05/tau)+F[2]*cos(2.0*j*pi*.1/tau)\\\n",
      "        +F[3]*cos(2.0*j*pi*.15/tau)+F[4]*cos(2.0*j*pi*.20/tau)+F[5]*cos(2.0*j*pi*.25/tau)+\\\n",
      "        F[6]*cos(2.0*j*pi*.30/tau)+F[7]*cos(2.0*j*pi*.35/tau)+F[8]*cos(2.0*j*pi*.4/tau)+\\\n",
      "        F[9]*cos(2.0*j*pi*.45/tau)+F[10]*cos(2.0*j*pi*.5/tau)+F[11]*cos(2.0*j*pi*.55/tau)))/k)\\\n",
      "        /(sqrt((1-(j**2)*(r**2))**2+(2*zeta*j*r)**2))*cos(j*w*t-atan(2*zeta*j*r/(1-(j**2)*(r**2))))\\\n",
      "        +(((2.0/N)*(F[1]*sin(2.0*j*pi*.05/tau)+F[2]*sin(2.0*j*pi*.1/tau)+F[3]*sin(2.0*j*pi*.15/tau)\\\n",
      "        +F[4]*sin(2.0*j*pi*.2/tau)+F[5]*sin(2.0*j*pi*.25/tau)+F[6]*sin(2.0*j*pi*.3/tau)\\\n",
      "        +F[7]*sin(2.0*j*pi*.35/tau)+F[8]*sin(2.0*j*pi*.4/tau)+F[9]*sin(2.0*j*pi*.45/tau)\\\n",
      "        +F[10]*sin(2.0*j*pi*.5/tau)+F[11]*sin(2.0*j*pi*.55/tau)))/k)/(sqrt(1-((j**2)*(r**2))**2\\\n",
      "        +(2*zeta*j*r)**2))*sin(j*w*t-atan(2*zeta*j*r/(1-(j**2)*(r**2))))\n",
      "        x[m] += jterms[m,i]\n",
      "        print 'jterms[{},{}] = {}'.format(i,m,jterms[m,i])\n",
      "        \n",
      "        m+=1\n",
      "    i+=1\n",
      "#position[t]=sum(jterms)\n",
      "print x      "
     ],
     "language": "python",
     "metadata": {},
     "outputs": [
      {
       "output_type": "stream",
       "stream": "stdout",
       "text": [
        "jterms[0,0] = -0.000688477363078\n",
        "jterms[0,1] = 0.000998184114474\n",
        "jterms[0,2] = 0.00104564148482\n",
        "jterms[0,3] = 0.000593451277399"
       ]
      },
      {
       "output_type": "stream",
       "stream": "stdout",
       "text": [
        "\n",
        "jterms[0,4] = 0.000951403617906\n",
        "jterms[1,0] = -0.00023908842442\n",
        "jterms[1,1] = 0.00136969087315"
       ]
      },
      {
       "output_type": "stream",
       "stream": "stdout",
       "text": [
        "\n",
        "jterms[1,2] = 0.000850575502531\n",
        "jterms[1,3] = 0.000795980886846\n",
        "jterms[1,4] = 0.000540929448727"
       ]
      },
      {
       "output_type": "stream",
       "stream": "stdout",
       "text": [
        "\n",
        "jterms[2,0] = 0.000279536376494\n",
        "jterms[2,1] = 0.0015445920775\n",
        "jterms[2,2] = 0.000556382892976"
       ]
      },
      {
       "output_type": "stream",
       "stream": "stdout",
       "text": [
        "\n",
        "jterms[2,3] = 0.0008888643459\n",
        "jterms[2,4] = 0.000375018173038\n",
        "jterms[3,0] = 0.000828933010729"
       ]
      },
      {
       "output_type": "stream",
       "stream": "stdout",
       "text": [
        "\n",
        "jterms[3,1] = 0.00147196328455\n",
        "jterms[3,2] = 0.000349844694532\n",
        "jterms[3,3] = 0.00077179960064"
       ]
      },
      {
       "output_type": "stream",
       "stream": "stdout",
       "text": [
        "\n",
        "jterms[3,4] = 0.000717981048873\n",
        "jterms[4,0] = 0.00136835524325\n",
        "jterms[4,1] = 0.00117295118017"
       ]
      },
      {
       "output_type": "stream",
       "stream": "stdout",
       "text": [
        "\n",
        "jterms[4,2] = 0.000362090711003\n",
        "jterms[4,3] = 0.000571201348697\n",
        "jterms[4,4] = 0.00102344804325"
       ]
      },
      {
       "output_type": "stream",
       "stream": "stdout",
       "text": [
        "\n",
        "jterms[5,0] = 0.00185779659476\n",
        "jterms[5,1] = 0.000734616484755\n",
        "jterms[5,2] = 0.000585346023515"
       ]
      },
      {
       "output_type": "stream",
       "stream": "stdout",
       "text": [
        "\n",
        "jterms[5,3] = 0.000503689609258\n",
        "jterms[5,4] = 0.000804783361001"
       ]
      },
      {
       "output_type": "stream",
       "stream": "stdout",
       "text": [
        "\n",
        "jterms[6,0] = 0.00226095743926\n",
        "jterms[6,1] = 0.000284585250244\n",
        "jterms[6,2] = 0.000877867237635"
       ]
      },
      {
       "output_type": "stream",
       "stream": "stdout",
       "text": [
        "\n",
        "jterms[6,3] = 0.000642168279298\n",
        "jterms[6,4] = 0.000410339077737\n",
        "jterms[7,0] = 0.00254793718125"
       ]
      },
      {
       "output_type": "stream",
       "stream": "stdout",
       "text": [
        "\n",
        "jterms[7,1] = -4.61108931795e-05\n",
        "jterms[7,2] = 0.00105393447343\n",
        "jterms[7,3] = 0.000837098407849"
       ]
      },
      {
       "output_type": "stream",
       "stream": "stdout",
       "text": [
        "\n",
        "jterms[7,4] = 0.000468499637494\n",
        "jterms[8,0] = 0.00269745184612\n",
        "jterms[8,1] = -0.000161186062568"
       ]
      },
      {
       "output_type": "stream",
       "stream": "stdout",
       "text": [
        "\n",
        "jterms[8,2] = 0.00100176374974\n",
        "jterms[8,3] = 0.000877980811704\n",
        "jterms[8,4] = 0.000886610151968"
       ]
      },
      {
       "output_type": "stream",
       "stream": "stdout",
       "text": [
        "\n",
        "jterms[9,0] = 0.00269841261516\n",
        "jterms[9,1] = -2.71348345579e-05\n",
        "jterms[9,2] = 0.000754477931056"
       ]
      },
      {
       "output_type": "stream",
       "stream": "stdout",
       "text": [
        "\n",
        "jterms[9,3] = 0.000720667812496\n",
        "jterms[9,4] = 0.000998583788791\n",
        "jterms[10,0] = 0.00255074823252"
       ]
      },
      {
       "output_type": "stream",
       "stream": "stdout",
       "text": [
        "\n",
        "jterms[10,1] = 0.00031701227566\n",
        "jterms[10,2] = 0.00046907722912\n",
        "jterms[10,3] = 0.000535036986809"
       ]
      },
      {
       "output_type": "stream",
       "stream": "stdout",
       "text": [
        "\n",
        "jterms[10,4] = 0.000626036693747\n",
        "jterms[11,0] = 0.00226541028995\n",
        "jterms[11,1] = 0.000771052985628"
       ]
      },
      {
       "output_type": "stream",
       "stream": "stdout",
       "text": [
        "\n",
        "jterms[11,2] = 0.000326760755437\n",
        "jterms[11,3] = 0.00052154548037\n",
        "jterms[11,4] = 0.00036246916366"
       ]
      },
      {
       "output_type": "stream",
       "stream": "stdout",
       "text": [
        "\n",
        "jterms[12,0] = 0.0018635609973\n",
        "jterms[12,1] = 0.00120278826151"
       ]
      },
      {
       "output_type": "stream",
       "stream": "stdout",
       "text": [
        "\n",
        "jterms[12,2] = 0.000417884344484\n",
        "jterms[12,3] = 0.000694762365218"
       ]
      },
      {
       "output_type": "stream",
       "stream": "stdout",
       "text": [
        "\n",
        "jterms[12,4] = 0.000627767461021\n",
        "jterms[13,0] = 0.00137500367828"
       ]
      },
      {
       "output_type": "stream",
       "stream": "stdout",
       "text": [
        "\n",
        "jterms[13,1] = 0.00148651354623\n",
        "jterms[13,2] = 0.000684594202418\n",
        "jterms[13,3] = 0.000867635936985"
       ]
      },
      {
       "output_type": "stream",
       "stream": "stdout",
       "text": [
        "\n",
        "jterms[13,4] = 0.000999288058809\n",
        "jterms[14,0] = 0.000835972394239\n",
        "jterms[14,1] = 0.00153961904799"
       ]
      },
      {
       "output_type": "stream",
       "stream": "stdout",
       "text": [
        "\n",
        "jterms[14,2] = 0.000957557917092\n",
        "jterms[14,3] = 0.000853485224771"
       ]
      },
      {
       "output_type": "stream",
       "stream": "stdout",
       "text": [
        "\n",
        "jterms[14,4] = 0.000885165960635\n",
        "jterms[15,0] = 0.000286444629608\n",
        "jterms[15,1] = 0.00134664250566"
       ]
      },
      {
       "output_type": "stream",
       "stream": "stdout",
       "text": [
        "\n",
        "jterms[15,2] = 0.00106347254203\n",
        "jterms[15,3] = 0.000667591157108\n",
        "jterms[15,4] = 0.000467207708654"
       ]
      },
      {
       "output_type": "stream",
       "stream": "stdout",
       "text": [
        "\n",
        "jterms[16,0] = -0.000232823655232\n",
        "jterms[16,1] = 0.000963771199114\n",
        "jterms[16,2] = 0.000935093547681"
       ]
      },
      {
       "output_type": "stream",
       "stream": "stdout",
       "text": [
        "\n",
        "jterms[16,3] = 0.000510695146814\n",
        "jterms[16,4] = 0.000411257567688\n",
        "jterms[17,0] = -0.000683320707088"
       ]
      },
      {
       "output_type": "stream",
       "stream": "stdout",
       "text": [
        "\n",
        "jterms[17,1] = 0.00050248239394\n",
        "jterms[17,2] = 0.000653927950514\n",
        "jterms[17,3] = 0.000552224476687"
       ]
      },
      {
       "output_type": "stream",
       "stream": "stdout",
       "text": [
        "\n",
        "jterms[17,4] = 0.000806449034447\n",
        "jterms[18,0] = -0.00103163522051\n",
        "jterms[18,1] = 9.70854880001e-05"
       ]
      },
      {
       "output_type": "stream",
       "stream": "stdout",
       "text": [
        "\n",
        "jterms[18,2] = 0.000398486020639\n",
        "jterms[18,3] = 0.000747332872409\n",
        "jterms[18,4] = 0.00102320733585"
       ]
      },
      {
       "output_type": "stream",
       "stream": "stdout",
       "text": [
        "\n",
        "jterms[19,0] = -0.00125193430147\n",
        "jterms[19,1] = -0.000134383672783\n",
        "jterms[19,2] = 0.000330946233514"
       ]
      },
      {
       "output_type": "stream",
       "stream": "stdout",
       "text": [
        "\n",
        "jterms[19,3] = 0.000885328645417\n",
        "jterms[19,4] = 0.000716217428692\n",
        "jterms[20,0] = -0.00132787937494"
       ]
      },
      {
       "output_type": "stream",
       "stream": "stdout",
       "text": [
        "\n",
        "jterms[20,1] = -0.000124530251897\n",
        "jterms[20,2] = 0.0004941891754\n",
        "jterms[20,3] = 0.000817194310725"
       ]
      },
      {
       "output_type": "stream",
       "stream": "stdout",
       "text": [
        "\n",
        "jterms[20,4] = 0.000374541242172\n",
        "jterms[21,0] = -0.00125383794224\n",
        "jterms[21,1] = 0.000123776816899"
       ]
      },
      {
       "output_type": "stream",
       "stream": "stdout",
       "text": [
        "\n",
        "jterms[21,2] = 0.00078457292871\n",
        "jterms[21,3] = 0.000616506087196\n",
        "jterms[21,4] = 0.000542499000002"
       ]
      },
      {
       "output_type": "stream",
       "stream": "stdout",
       "text": [
        "\n",
        "jterms[22,0] = -0.00103530131772\n",
        "jterms[22,1] = 0.000538240151743\n",
        "jterms[22,2] = 0.00101773467395"
       ]
      },
      {
       "output_type": "stream",
       "stream": "stdout",
       "text": [
        "\n",
        "jterms[22,3] = 0.000499981151627\n",
        "jterms[22,4] = 0.000952519218062\n",
        "jterms[23,0] = -0.000688477363078"
       ]
      },
      {
       "output_type": "stream",
       "stream": "stdout",
       "text": [
        "\n",
        "jterms[23,1] = 0.000998184114474\n",
        "jterms[23,2] = 0.00104564148482\n",
        "jterms[23,3] = 0.000593451277399"
       ]
      },
      {
       "output_type": "stream",
       "stream": "stdout",
       "text": [
        "\n",
        "jterms[23,4] = 0.000951403617906\n",
        "[ 0.01528374  0.01697041  0.01701786  0.01656567  0.01692363  0.          0.\n",
        "  0.          0.          0.          0.          0.          0.          0.\n",
        "  0.          0.          0.          0.          0.          0.          0.\n",
        "  0.          0.          0.        ]\n"
       ]
      }
     ],
     "prompt_number": 22
    },
    {
     "cell_type": "code",
     "collapsed": false,
     "input": [
      "print(jterms)"
     ],
     "language": "python",
     "metadata": {},
     "outputs": [
      {
       "output_type": "stream",
       "stream": "stdout",
       "text": [
        "[[ 0.0009514  0.         0.         0.         0.         0.         0.         0.\n",
        "   0.         0.         0.         0.         0.         0.         0.         0.\n",
        "   0.         0.         0.         0.         0.         0.         0.         0.       ]\n",
        " [ 0.         0.         0.         0.         0.         0.         0.         0.\n",
        "   0.         0.         0.         0.         0.         0.         0.         0.\n",
        "   0.         0.         0.         0.         0.         0.         0.         0.       ]\n",
        " [ 0.         0.         0.         0.         0.         0.         0.         0.\n",
        "   0.         0.         0.         0.         0.         0.         0.         0.\n",
        "   0.         0.         0.         0.         0.         0.         0.         0.       ]\n",
        " [ 0.         0.         0.         0.         0.         0.         0.         0.\n",
        "   0.         0.         0.         0.         0.         0.         0.         0.\n",
        "   0.         0.         0.         0.         0.         0.         0.         0.       ]\n",
        " [ 0.         0.         0.         0.         0.         0.         0.         0.\n",
        "   0.         0.         0.         0.         0.         0.         0.         0.\n",
        "   0.         0.         0.         0.         0.         0.         0.         0.       ]]\n"
       ]
      }
     ],
     "prompt_number": 7
    },
    {
     "cell_type": "code",
     "collapsed": false,
     "input": [],
     "language": "python",
     "metadata": {},
     "outputs": [],
     "prompt_number": 7
    }
   ],
   "metadata": {}
  }
 ]
}